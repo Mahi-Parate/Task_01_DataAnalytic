{
  "nbformat": 4,
  "nbformat_minor": 0,
  "metadata": {
    "colab": {
      "provenance": [],
      "authorship_tag": "ABX9TyM7hgSKnZonbW5WrbL/chtM",
      "include_colab_link": true
    },
    "kernelspec": {
      "name": "python3",
      "display_name": "Python 3"
    },
    "language_info": {
      "name": "python"
    }
  },
  "cells": [
    {
      "cell_type": "markdown",
      "metadata": {
        "id": "view-in-github",
        "colab_type": "text"
      },
      "source": [
        "<a href=\"https://colab.research.google.com/github/Mahi-Parate/Task_01_DataAnalytic/blob/main/telco_customer_churn.ipynb\" target=\"_parent\"><img src=\"https://colab.research.google.com/assets/colab-badge.svg\" alt=\"Open In Colab\"/></a>"
      ]
    },
    {
      "cell_type": "code",
      "execution_count": null,
      "metadata": {
        "id": "oDUaxO-f4Ne_"
      },
      "outputs": [],
      "source": []
    },
    {
      "cell_type": "code",
      "execution_count": null,
      "metadata": {
        "id": "sCJ29znJbw6y"
      },
      "outputs": [],
      "source": [
        "import pandas as pd"
      ]
    },
    {
      "cell_type": "code",
      "source": [
        "#load dataset\n",
        "df = pd.read_csv(r\"/content/sample_data/telco customer churn.csv\")\n",
        "print(df.head())"
      ],
      "metadata": {
        "colab": {
          "base_uri": "https://localhost:8080/"
        },
        "id": "JRnh6BHtdj65",
        "outputId": "1523819c-b7fd-482c-8804-341afd80faa1"
      },
      "execution_count": null,
      "outputs": [
        {
          "output_type": "stream",
          "name": "stdout",
          "text": [
            "   CustomerID  Count        Country       State         City  Zip Code  \\\n",
            "0  3668-QPYBK      1  United States  California  Los Angeles     90003   \n",
            "1  9237-HQITU      1  United States  California  Los Angeles     90005   \n",
            "2  9305-CDSKC      1  United States  California  Los Angeles     90006   \n",
            "3  7892-POOKP      1  United States  California  Los Angeles     90010   \n",
            "4  0280-XJGEX      1  United States  California  Los Angeles     90015   \n",
            "\n",
            "                 Lat Long  Latitude  Longitude  Gender  ...        Contract  \\\n",
            "0  33.964131, -118.272783     33.96    -118.27    Male  ...  Month-to-month   \n",
            "1   34.059281, -118.30742     34.06    -118.31  Female  ...  Month-to-month   \n",
            "2  34.048013, -118.293953     34.05    -118.29  Female  ...  Month-to-month   \n",
            "3  34.062125, -118.315709     34.06    -118.32  Female  ...  Month-to-month   \n",
            "4  34.039224, -118.266293     34.04    -118.27    Male  ...  Month-to-month   \n",
            "\n",
            "  Paperless Billing             Payment Method  Monthly Charges Total Charges  \\\n",
            "0               Yes               Mailed check            53.85           108   \n",
            "1               Yes           Electronic check            70.70           152   \n",
            "2               Yes           Electronic check            99.65           821   \n",
            "3               Yes           Electronic check           104.80          3046   \n",
            "4               Yes  Bank transfer (automatic)           103.70          5036   \n",
            "\n",
            "  Churn Label Churn Value Churn Score  CLTV                   Churn Reason  \n",
            "0         Yes           1          86  3239   Competitor made better offer  \n",
            "1         Yes           1          67  2701                          Moved  \n",
            "2         Yes           1          86  5372                          Moved  \n",
            "3         Yes           1          84  5003                          Moved  \n",
            "4         Yes           1          89  5340  Competitor had better devices  \n",
            "\n",
            "[5 rows x 33 columns]\n"
          ]
        }
      ]
    },
    {
      "cell_type": "markdown",
      "source": [
        "**1. Check missing values**"
      ],
      "metadata": {
        "id": "dcNVj08v7CgI"
      }
    },
    {
      "cell_type": "code",
      "source": [
        "print(df.isnull().sum())"
      ],
      "metadata": {
        "colab": {
          "base_uri": "https://localhost:8080/"
        },
        "id": "7ofghtpded_G",
        "outputId": "158a3265-8837-4893-a260-218c2b05e958"
      },
      "execution_count": null,
      "outputs": [
        {
          "output_type": "stream",
          "name": "stdout",
          "text": [
            "CustomerID              0\n",
            "Count                   0\n",
            "Country                 0\n",
            "State                   0\n",
            "City                    0\n",
            "Zip Code                0\n",
            "Lat Long                0\n",
            "Latitude                0\n",
            "Longitude               0\n",
            "Gender                  0\n",
            "Senior Citizen          0\n",
            "Partner                 0\n",
            "Dependents              0\n",
            "Tenure Months           0\n",
            "Phone Service           0\n",
            "Multiple Lines          0\n",
            "Internet Service        0\n",
            "Online Security         0\n",
            "Online Backup           0\n",
            "Device Protection       0\n",
            "Tech Support            0\n",
            "Streaming TV            0\n",
            "Streaming Movies        0\n",
            "Contract                0\n",
            "Paperless Billing       0\n",
            "Payment Method          0\n",
            "Monthly Charges         0\n",
            "Total Charges           0\n",
            "Churn Label             0\n",
            "Churn Value             0\n",
            "Churn Score             0\n",
            "CLTV                    0\n",
            "Churn Reason         5174\n",
            "dtype: int64\n"
          ]
        }
      ]
    },
    {
      "cell_type": "markdown",
      "source": [
        "**2 . Handle Missing Values**"
      ],
      "metadata": {
        "id": "kn67izc063t7"
      }
    },
    {
      "cell_type": "code",
      "source": [
        "print(df['Churn Reason'].dtype)\n"
      ],
      "metadata": {
        "colab": {
          "base_uri": "https://localhost:8080/"
        },
        "id": "tSZCG3To5cIw",
        "outputId": "cba1678a-2839-43b4-d595-4e7bc8838d80"
      },
      "execution_count": null,
      "outputs": [
        {
          "output_type": "stream",
          "name": "stdout",
          "text": [
            "string\n"
          ]
        }
      ]
    },
    {
      "cell_type": "code",
      "source": [
        "df['Churn Reason'] = df['Churn Reason'].astype(\"string\")"
      ],
      "metadata": {
        "id": "O5YeTMsT5j-1"
      },
      "execution_count": null,
      "outputs": []
    },
    {
      "cell_type": "code",
      "source": [
        "df['Churn Reason'] = df['Churn Reason'].fillna(\"No Active Churn\")"
      ],
      "metadata": {
        "id": "RJF6Q10U57bJ"
      },
      "execution_count": null,
      "outputs": []
    },
    {
      "cell_type": "code",
      "source": [
        "display(df.head(1879))"
      ],
      "metadata": {
        "colab": {
          "base_uri": "https://localhost:8080/",
          "height": 615
        },
        "id": "loRlWQSp6RLh",
        "outputId": "9ed84a75-c052-4785-c206-6175a5a25fa7"
      },
      "execution_count": null,
      "outputs": [
        {
          "output_type": "display_data",
          "data": {
            "text/plain": [
              "      CustomerID  Count        Country       State         City  Zip Code  \\\n",
              "0     3668-QPYBK      1  United States  California  Los Angeles     90003   \n",
              "1     9237-HQITU      1  United States  California  Los Angeles     90005   \n",
              "2     9305-CDSKC      1  United States  California  Los Angeles     90006   \n",
              "3     7892-POOKP      1  United States  California  Los Angeles     90010   \n",
              "4     0280-XJGEX      1  United States  California  Los Angeles     90015   \n",
              "...          ...    ...            ...         ...          ...       ...   \n",
              "1874  6388-TABGU      1  United States  California  Los Angeles     90011   \n",
              "1875  9763-GRSKD      1  United States  California  Los Angeles     90012   \n",
              "1876  7469-LKBCI      1  United States  California  Los Angeles     90013   \n",
              "1877  8091-TTVAX      1  United States  California  Los Angeles     90014   \n",
              "1878  5129-JLPIS      1  United States  California  Los Angeles     90016   \n",
              "\n",
              "                    Lat Long  Latitude  Longitude  Gender  ...  \\\n",
              "0     33.964131, -118.272783     33.96    -118.27    Male  ...   \n",
              "1      34.059281, -118.30742     34.06    -118.31  Female  ...   \n",
              "2     34.048013, -118.293953     34.05    -118.29  Female  ...   \n",
              "3     34.062125, -118.315709     34.06    -118.32  Female  ...   \n",
              "4     34.039224, -118.266293     34.04    -118.27    Male  ...   \n",
              "...                      ...       ...        ...     ...  ...   \n",
              "1874   34.00709, -118.258681     34.01    -118.26    Male  ...   \n",
              "1875  34.065875, -118.238728     34.07    -118.24    Male  ...   \n",
              "1876  34.044639, -118.240413     34.04    -118.24    Male  ...   \n",
              "1877  34.043144, -118.251977     34.04    -118.25    Male  ...   \n",
              "1878  34.028331, -118.354338     34.03    -118.35    Male  ...   \n",
              "\n",
              "            Contract Paperless Billing             Payment Method  \\\n",
              "0     Month-to-month               Yes               Mailed check   \n",
              "1     Month-to-month               Yes           Electronic check   \n",
              "2     Month-to-month               Yes           Electronic check   \n",
              "3     Month-to-month               Yes           Electronic check   \n",
              "4     Month-to-month               Yes  Bank transfer (automatic)   \n",
              "...              ...               ...                        ...   \n",
              "1874        One year                No  Bank transfer (automatic)   \n",
              "1875  Month-to-month               Yes               Mailed check   \n",
              "1876        Two year                No    Credit card (automatic)   \n",
              "1877        One year                No    Credit card (automatic)   \n",
              "1878  Month-to-month               Yes           Electronic check   \n",
              "\n",
              "      Monthly Charges Total Charges Churn Label Churn Value Churn Score  CLTV  \\\n",
              "0               53.85           108         Yes           1          86  3239   \n",
              "1               70.70           152         Yes           1          67  2701   \n",
              "2               99.65           821         Yes           1          86  5372   \n",
              "3              104.80          3046         Yes           1          84  5003   \n",
              "4              103.70          5036         Yes           1          89  5340   \n",
              "...               ...           ...         ...         ...         ...   ...   \n",
              "1874            56.15          3488          No           0          58  4529   \n",
              "1875            49.95           587          No           0          76  5764   \n",
              "1876            18.95           327          No           0          39  4726   \n",
              "1877           100.35          5681          No           0          71  6432   \n",
              "1878           105.50          2686          No           0          75  5822   \n",
              "\n",
              "                       Churn Reason  \n",
              "0      Competitor made better offer  \n",
              "1                             Moved  \n",
              "2                             Moved  \n",
              "3                             Moved  \n",
              "4     Competitor had better devices  \n",
              "...                             ...  \n",
              "1874                No Active Churn  \n",
              "1875                No Active Churn  \n",
              "1876                No Active Churn  \n",
              "1877                No Active Churn  \n",
              "1878                No Active Churn  \n",
              "\n",
              "[1879 rows x 33 columns]"
            ],
            "text/html": [
              "\n",
              "  <div id=\"df-1b832e9a-9649-46c5-b545-15081a53e0b3\" class=\"colab-df-container\">\n",
              "    <div>\n",
              "<style scoped>\n",
              "    .dataframe tbody tr th:only-of-type {\n",
              "        vertical-align: middle;\n",
              "    }\n",
              "\n",
              "    .dataframe tbody tr th {\n",
              "        vertical-align: top;\n",
              "    }\n",
              "\n",
              "    .dataframe thead th {\n",
              "        text-align: right;\n",
              "    }\n",
              "</style>\n",
              "<table border=\"1\" class=\"dataframe\">\n",
              "  <thead>\n",
              "    <tr style=\"text-align: right;\">\n",
              "      <th></th>\n",
              "      <th>CustomerID</th>\n",
              "      <th>Count</th>\n",
              "      <th>Country</th>\n",
              "      <th>State</th>\n",
              "      <th>City</th>\n",
              "      <th>Zip Code</th>\n",
              "      <th>Lat Long</th>\n",
              "      <th>Latitude</th>\n",
              "      <th>Longitude</th>\n",
              "      <th>Gender</th>\n",
              "      <th>...</th>\n",
              "      <th>Contract</th>\n",
              "      <th>Paperless Billing</th>\n",
              "      <th>Payment Method</th>\n",
              "      <th>Monthly Charges</th>\n",
              "      <th>Total Charges</th>\n",
              "      <th>Churn Label</th>\n",
              "      <th>Churn Value</th>\n",
              "      <th>Churn Score</th>\n",
              "      <th>CLTV</th>\n",
              "      <th>Churn Reason</th>\n",
              "    </tr>\n",
              "  </thead>\n",
              "  <tbody>\n",
              "    <tr>\n",
              "      <th>0</th>\n",
              "      <td>3668-QPYBK</td>\n",
              "      <td>1</td>\n",
              "      <td>United States</td>\n",
              "      <td>California</td>\n",
              "      <td>Los Angeles</td>\n",
              "      <td>90003</td>\n",
              "      <td>33.964131, -118.272783</td>\n",
              "      <td>33.96</td>\n",
              "      <td>-118.27</td>\n",
              "      <td>Male</td>\n",
              "      <td>...</td>\n",
              "      <td>Month-to-month</td>\n",
              "      <td>Yes</td>\n",
              "      <td>Mailed check</td>\n",
              "      <td>53.85</td>\n",
              "      <td>108</td>\n",
              "      <td>Yes</td>\n",
              "      <td>1</td>\n",
              "      <td>86</td>\n",
              "      <td>3239</td>\n",
              "      <td>Competitor made better offer</td>\n",
              "    </tr>\n",
              "    <tr>\n",
              "      <th>1</th>\n",
              "      <td>9237-HQITU</td>\n",
              "      <td>1</td>\n",
              "      <td>United States</td>\n",
              "      <td>California</td>\n",
              "      <td>Los Angeles</td>\n",
              "      <td>90005</td>\n",
              "      <td>34.059281, -118.30742</td>\n",
              "      <td>34.06</td>\n",
              "      <td>-118.31</td>\n",
              "      <td>Female</td>\n",
              "      <td>...</td>\n",
              "      <td>Month-to-month</td>\n",
              "      <td>Yes</td>\n",
              "      <td>Electronic check</td>\n",
              "      <td>70.70</td>\n",
              "      <td>152</td>\n",
              "      <td>Yes</td>\n",
              "      <td>1</td>\n",
              "      <td>67</td>\n",
              "      <td>2701</td>\n",
              "      <td>Moved</td>\n",
              "    </tr>\n",
              "    <tr>\n",
              "      <th>2</th>\n",
              "      <td>9305-CDSKC</td>\n",
              "      <td>1</td>\n",
              "      <td>United States</td>\n",
              "      <td>California</td>\n",
              "      <td>Los Angeles</td>\n",
              "      <td>90006</td>\n",
              "      <td>34.048013, -118.293953</td>\n",
              "      <td>34.05</td>\n",
              "      <td>-118.29</td>\n",
              "      <td>Female</td>\n",
              "      <td>...</td>\n",
              "      <td>Month-to-month</td>\n",
              "      <td>Yes</td>\n",
              "      <td>Electronic check</td>\n",
              "      <td>99.65</td>\n",
              "      <td>821</td>\n",
              "      <td>Yes</td>\n",
              "      <td>1</td>\n",
              "      <td>86</td>\n",
              "      <td>5372</td>\n",
              "      <td>Moved</td>\n",
              "    </tr>\n",
              "    <tr>\n",
              "      <th>3</th>\n",
              "      <td>7892-POOKP</td>\n",
              "      <td>1</td>\n",
              "      <td>United States</td>\n",
              "      <td>California</td>\n",
              "      <td>Los Angeles</td>\n",
              "      <td>90010</td>\n",
              "      <td>34.062125, -118.315709</td>\n",
              "      <td>34.06</td>\n",
              "      <td>-118.32</td>\n",
              "      <td>Female</td>\n",
              "      <td>...</td>\n",
              "      <td>Month-to-month</td>\n",
              "      <td>Yes</td>\n",
              "      <td>Electronic check</td>\n",
              "      <td>104.80</td>\n",
              "      <td>3046</td>\n",
              "      <td>Yes</td>\n",
              "      <td>1</td>\n",
              "      <td>84</td>\n",
              "      <td>5003</td>\n",
              "      <td>Moved</td>\n",
              "    </tr>\n",
              "    <tr>\n",
              "      <th>4</th>\n",
              "      <td>0280-XJGEX</td>\n",
              "      <td>1</td>\n",
              "      <td>United States</td>\n",
              "      <td>California</td>\n",
              "      <td>Los Angeles</td>\n",
              "      <td>90015</td>\n",
              "      <td>34.039224, -118.266293</td>\n",
              "      <td>34.04</td>\n",
              "      <td>-118.27</td>\n",
              "      <td>Male</td>\n",
              "      <td>...</td>\n",
              "      <td>Month-to-month</td>\n",
              "      <td>Yes</td>\n",
              "      <td>Bank transfer (automatic)</td>\n",
              "      <td>103.70</td>\n",
              "      <td>5036</td>\n",
              "      <td>Yes</td>\n",
              "      <td>1</td>\n",
              "      <td>89</td>\n",
              "      <td>5340</td>\n",
              "      <td>Competitor had better devices</td>\n",
              "    </tr>\n",
              "    <tr>\n",
              "      <th>...</th>\n",
              "      <td>...</td>\n",
              "      <td>...</td>\n",
              "      <td>...</td>\n",
              "      <td>...</td>\n",
              "      <td>...</td>\n",
              "      <td>...</td>\n",
              "      <td>...</td>\n",
              "      <td>...</td>\n",
              "      <td>...</td>\n",
              "      <td>...</td>\n",
              "      <td>...</td>\n",
              "      <td>...</td>\n",
              "      <td>...</td>\n",
              "      <td>...</td>\n",
              "      <td>...</td>\n",
              "      <td>...</td>\n",
              "      <td>...</td>\n",
              "      <td>...</td>\n",
              "      <td>...</td>\n",
              "      <td>...</td>\n",
              "      <td>...</td>\n",
              "    </tr>\n",
              "    <tr>\n",
              "      <th>1874</th>\n",
              "      <td>6388-TABGU</td>\n",
              "      <td>1</td>\n",
              "      <td>United States</td>\n",
              "      <td>California</td>\n",
              "      <td>Los Angeles</td>\n",
              "      <td>90011</td>\n",
              "      <td>34.00709, -118.258681</td>\n",
              "      <td>34.01</td>\n",
              "      <td>-118.26</td>\n",
              "      <td>Male</td>\n",
              "      <td>...</td>\n",
              "      <td>One year</td>\n",
              "      <td>No</td>\n",
              "      <td>Bank transfer (automatic)</td>\n",
              "      <td>56.15</td>\n",
              "      <td>3488</td>\n",
              "      <td>No</td>\n",
              "      <td>0</td>\n",
              "      <td>58</td>\n",
              "      <td>4529</td>\n",
              "      <td>No Active Churn</td>\n",
              "    </tr>\n",
              "    <tr>\n",
              "      <th>1875</th>\n",
              "      <td>9763-GRSKD</td>\n",
              "      <td>1</td>\n",
              "      <td>United States</td>\n",
              "      <td>California</td>\n",
              "      <td>Los Angeles</td>\n",
              "      <td>90012</td>\n",
              "      <td>34.065875, -118.238728</td>\n",
              "      <td>34.07</td>\n",
              "      <td>-118.24</td>\n",
              "      <td>Male</td>\n",
              "      <td>...</td>\n",
              "      <td>Month-to-month</td>\n",
              "      <td>Yes</td>\n",
              "      <td>Mailed check</td>\n",
              "      <td>49.95</td>\n",
              "      <td>587</td>\n",
              "      <td>No</td>\n",
              "      <td>0</td>\n",
              "      <td>76</td>\n",
              "      <td>5764</td>\n",
              "      <td>No Active Churn</td>\n",
              "    </tr>\n",
              "    <tr>\n",
              "      <th>1876</th>\n",
              "      <td>7469-LKBCI</td>\n",
              "      <td>1</td>\n",
              "      <td>United States</td>\n",
              "      <td>California</td>\n",
              "      <td>Los Angeles</td>\n",
              "      <td>90013</td>\n",
              "      <td>34.044639, -118.240413</td>\n",
              "      <td>34.04</td>\n",
              "      <td>-118.24</td>\n",
              "      <td>Male</td>\n",
              "      <td>...</td>\n",
              "      <td>Two year</td>\n",
              "      <td>No</td>\n",
              "      <td>Credit card (automatic)</td>\n",
              "      <td>18.95</td>\n",
              "      <td>327</td>\n",
              "      <td>No</td>\n",
              "      <td>0</td>\n",
              "      <td>39</td>\n",
              "      <td>4726</td>\n",
              "      <td>No Active Churn</td>\n",
              "    </tr>\n",
              "    <tr>\n",
              "      <th>1877</th>\n",
              "      <td>8091-TTVAX</td>\n",
              "      <td>1</td>\n",
              "      <td>United States</td>\n",
              "      <td>California</td>\n",
              "      <td>Los Angeles</td>\n",
              "      <td>90014</td>\n",
              "      <td>34.043144, -118.251977</td>\n",
              "      <td>34.04</td>\n",
              "      <td>-118.25</td>\n",
              "      <td>Male</td>\n",
              "      <td>...</td>\n",
              "      <td>One year</td>\n",
              "      <td>No</td>\n",
              "      <td>Credit card (automatic)</td>\n",
              "      <td>100.35</td>\n",
              "      <td>5681</td>\n",
              "      <td>No</td>\n",
              "      <td>0</td>\n",
              "      <td>71</td>\n",
              "      <td>6432</td>\n",
              "      <td>No Active Churn</td>\n",
              "    </tr>\n",
              "    <tr>\n",
              "      <th>1878</th>\n",
              "      <td>5129-JLPIS</td>\n",
              "      <td>1</td>\n",
              "      <td>United States</td>\n",
              "      <td>California</td>\n",
              "      <td>Los Angeles</td>\n",
              "      <td>90016</td>\n",
              "      <td>34.028331, -118.354338</td>\n",
              "      <td>34.03</td>\n",
              "      <td>-118.35</td>\n",
              "      <td>Male</td>\n",
              "      <td>...</td>\n",
              "      <td>Month-to-month</td>\n",
              "      <td>Yes</td>\n",
              "      <td>Electronic check</td>\n",
              "      <td>105.50</td>\n",
              "      <td>2686</td>\n",
              "      <td>No</td>\n",
              "      <td>0</td>\n",
              "      <td>75</td>\n",
              "      <td>5822</td>\n",
              "      <td>No Active Churn</td>\n",
              "    </tr>\n",
              "  </tbody>\n",
              "</table>\n",
              "<p>1879 rows × 33 columns</p>\n",
              "</div>\n",
              "    <div class=\"colab-df-buttons\">\n",
              "\n",
              "  <div class=\"colab-df-container\">\n",
              "    <button class=\"colab-df-convert\" onclick=\"convertToInteractive('df-1b832e9a-9649-46c5-b545-15081a53e0b3')\"\n",
              "            title=\"Convert this dataframe to an interactive table.\"\n",
              "            style=\"display:none;\">\n",
              "\n",
              "  <svg xmlns=\"http://www.w3.org/2000/svg\" height=\"24px\" viewBox=\"0 -960 960 960\">\n",
              "    <path d=\"M120-120v-720h720v720H120Zm60-500h600v-160H180v160Zm220 220h160v-160H400v160Zm0 220h160v-160H400v160ZM180-400h160v-160H180v160Zm440 0h160v-160H620v160ZM180-180h160v-160H180v160Zm440 0h160v-160H620v160Z\"/>\n",
              "  </svg>\n",
              "    </button>\n",
              "\n",
              "  <style>\n",
              "    .colab-df-container {\n",
              "      display:flex;\n",
              "      gap: 12px;\n",
              "    }\n",
              "\n",
              "    .colab-df-convert {\n",
              "      background-color: #E8F0FE;\n",
              "      border: none;\n",
              "      border-radius: 50%;\n",
              "      cursor: pointer;\n",
              "      display: none;\n",
              "      fill: #1967D2;\n",
              "      height: 32px;\n",
              "      padding: 0 0 0 0;\n",
              "      width: 32px;\n",
              "    }\n",
              "\n",
              "    .colab-df-convert:hover {\n",
              "      background-color: #E2EBFA;\n",
              "      box-shadow: 0px 1px 2px rgba(60, 64, 67, 0.3), 0px 1px 3px 1px rgba(60, 64, 67, 0.15);\n",
              "      fill: #174EA6;\n",
              "    }\n",
              "\n",
              "    .colab-df-buttons div {\n",
              "      margin-bottom: 4px;\n",
              "    }\n",
              "\n",
              "    [theme=dark] .colab-df-convert {\n",
              "      background-color: #3B4455;\n",
              "      fill: #D2E3FC;\n",
              "    }\n",
              "\n",
              "    [theme=dark] .colab-df-convert:hover {\n",
              "      background-color: #434B5C;\n",
              "      box-shadow: 0px 1px 3px 1px rgba(0, 0, 0, 0.15);\n",
              "      filter: drop-shadow(0px 1px 2px rgba(0, 0, 0, 0.3));\n",
              "      fill: #FFFFFF;\n",
              "    }\n",
              "  </style>\n",
              "\n",
              "    <script>\n",
              "      const buttonEl =\n",
              "        document.querySelector('#df-1b832e9a-9649-46c5-b545-15081a53e0b3 button.colab-df-convert');\n",
              "      buttonEl.style.display =\n",
              "        google.colab.kernel.accessAllowed ? 'block' : 'none';\n",
              "\n",
              "      async function convertToInteractive(key) {\n",
              "        const element = document.querySelector('#df-1b832e9a-9649-46c5-b545-15081a53e0b3');\n",
              "        const dataTable =\n",
              "          await google.colab.kernel.invokeFunction('convertToInteractive',\n",
              "                                                    [key], {});\n",
              "        if (!dataTable) return;\n",
              "\n",
              "        const docLinkHtml = 'Like what you see? Visit the ' +\n",
              "          '<a target=\"_blank\" href=https://colab.research.google.com/notebooks/data_table.ipynb>data table notebook</a>'\n",
              "          + ' to learn more about interactive tables.';\n",
              "        element.innerHTML = '';\n",
              "        dataTable['output_type'] = 'display_data';\n",
              "        await google.colab.output.renderOutput(dataTable, element);\n",
              "        const docLink = document.createElement('div');\n",
              "        docLink.innerHTML = docLinkHtml;\n",
              "        element.appendChild(docLink);\n",
              "      }\n",
              "    </script>\n",
              "  </div>\n",
              "\n",
              "\n",
              "    <div id=\"df-674dcc5e-eacd-45ef-82ca-13eecde022c0\">\n",
              "      <button class=\"colab-df-quickchart\" onclick=\"quickchart('df-674dcc5e-eacd-45ef-82ca-13eecde022c0')\"\n",
              "                title=\"Suggest charts\"\n",
              "                style=\"display:none;\">\n",
              "\n",
              "<svg xmlns=\"http://www.w3.org/2000/svg\" height=\"24px\"viewBox=\"0 0 24 24\"\n",
              "     width=\"24px\">\n",
              "    <g>\n",
              "        <path d=\"M19 3H5c-1.1 0-2 .9-2 2v14c0 1.1.9 2 2 2h14c1.1 0 2-.9 2-2V5c0-1.1-.9-2-2-2zM9 17H7v-7h2v7zm4 0h-2V7h2v10zm4 0h-2v-4h2v4z\"/>\n",
              "    </g>\n",
              "</svg>\n",
              "      </button>\n",
              "\n",
              "<style>\n",
              "  .colab-df-quickchart {\n",
              "      --bg-color: #E8F0FE;\n",
              "      --fill-color: #1967D2;\n",
              "      --hover-bg-color: #E2EBFA;\n",
              "      --hover-fill-color: #174EA6;\n",
              "      --disabled-fill-color: #AAA;\n",
              "      --disabled-bg-color: #DDD;\n",
              "  }\n",
              "\n",
              "  [theme=dark] .colab-df-quickchart {\n",
              "      --bg-color: #3B4455;\n",
              "      --fill-color: #D2E3FC;\n",
              "      --hover-bg-color: #434B5C;\n",
              "      --hover-fill-color: #FFFFFF;\n",
              "      --disabled-bg-color: #3B4455;\n",
              "      --disabled-fill-color: #666;\n",
              "  }\n",
              "\n",
              "  .colab-df-quickchart {\n",
              "    background-color: var(--bg-color);\n",
              "    border: none;\n",
              "    border-radius: 50%;\n",
              "    cursor: pointer;\n",
              "    display: none;\n",
              "    fill: var(--fill-color);\n",
              "    height: 32px;\n",
              "    padding: 0;\n",
              "    width: 32px;\n",
              "  }\n",
              "\n",
              "  .colab-df-quickchart:hover {\n",
              "    background-color: var(--hover-bg-color);\n",
              "    box-shadow: 0 1px 2px rgba(60, 64, 67, 0.3), 0 1px 3px 1px rgba(60, 64, 67, 0.15);\n",
              "    fill: var(--button-hover-fill-color);\n",
              "  }\n",
              "\n",
              "  .colab-df-quickchart-complete:disabled,\n",
              "  .colab-df-quickchart-complete:disabled:hover {\n",
              "    background-color: var(--disabled-bg-color);\n",
              "    fill: var(--disabled-fill-color);\n",
              "    box-shadow: none;\n",
              "  }\n",
              "\n",
              "  .colab-df-spinner {\n",
              "    border: 2px solid var(--fill-color);\n",
              "    border-color: transparent;\n",
              "    border-bottom-color: var(--fill-color);\n",
              "    animation:\n",
              "      spin 1s steps(1) infinite;\n",
              "  }\n",
              "\n",
              "  @keyframes spin {\n",
              "    0% {\n",
              "      border-color: transparent;\n",
              "      border-bottom-color: var(--fill-color);\n",
              "      border-left-color: var(--fill-color);\n",
              "    }\n",
              "    20% {\n",
              "      border-color: transparent;\n",
              "      border-left-color: var(--fill-color);\n",
              "      border-top-color: var(--fill-color);\n",
              "    }\n",
              "    30% {\n",
              "      border-color: transparent;\n",
              "      border-left-color: var(--fill-color);\n",
              "      border-top-color: var(--fill-color);\n",
              "      border-right-color: var(--fill-color);\n",
              "    }\n",
              "    40% {\n",
              "      border-color: transparent;\n",
              "      border-right-color: var(--fill-color);\n",
              "      border-top-color: var(--fill-color);\n",
              "    }\n",
              "    60% {\n",
              "      border-color: transparent;\n",
              "      border-right-color: var(--fill-color);\n",
              "    }\n",
              "    80% {\n",
              "      border-color: transparent;\n",
              "      border-right-color: var(--fill-color);\n",
              "      border-bottom-color: var(--fill-color);\n",
              "    }\n",
              "    90% {\n",
              "      border-color: transparent;\n",
              "      border-bottom-color: var(--fill-color);\n",
              "    }\n",
              "  }\n",
              "</style>\n",
              "\n",
              "      <script>\n",
              "        async function quickchart(key) {\n",
              "          const quickchartButtonEl =\n",
              "            document.querySelector('#' + key + ' button');\n",
              "          quickchartButtonEl.disabled = true;  // To prevent multiple clicks.\n",
              "          quickchartButtonEl.classList.add('colab-df-spinner');\n",
              "          try {\n",
              "            const charts = await google.colab.kernel.invokeFunction(\n",
              "                'suggestCharts', [key], {});\n",
              "          } catch (error) {\n",
              "            console.error('Error during call to suggestCharts:', error);\n",
              "          }\n",
              "          quickchartButtonEl.classList.remove('colab-df-spinner');\n",
              "          quickchartButtonEl.classList.add('colab-df-quickchart-complete');\n",
              "        }\n",
              "        (() => {\n",
              "          let quickchartButtonEl =\n",
              "            document.querySelector('#df-674dcc5e-eacd-45ef-82ca-13eecde022c0 button');\n",
              "          quickchartButtonEl.style.display =\n",
              "            google.colab.kernel.accessAllowed ? 'block' : 'none';\n",
              "        })();\n",
              "      </script>\n",
              "    </div>\n",
              "\n",
              "    </div>\n",
              "  </div>\n"
            ],
            "application/vnd.google.colaboratory.intrinsic+json": {
              "type": "dataframe"
            }
          },
          "metadata": {}
        }
      ]
    },
    {
      "cell_type": "markdown",
      "source": [
        "**3. Remove duplicates**"
      ],
      "metadata": {
        "id": "YXoTEO_i7HSf"
      }
    },
    {
      "cell_type": "code",
      "source": [
        "df = df.drop_duplicates()"
      ],
      "metadata": {
        "id": "wWBj2HTZ6ijS"
      },
      "execution_count": null,
      "outputs": []
    },
    {
      "cell_type": "markdown",
      "source": [
        "**4. Standardize text values**"
      ],
      "metadata": {
        "id": "2GB1H4Zg7sB7"
      }
    },
    {
      "cell_type": "code",
      "source": [
        "df['Gender'] = df['Gender'].str.strip().str.lower().replace({'m':'Male','f':'Female'})"
      ],
      "metadata": {
        "id": "pSsCDO847aOy"
      },
      "execution_count": null,
      "outputs": []
    },
    {
      "cell_type": "code",
      "source": [
        "print(df)"
      ],
      "metadata": {
        "colab": {
          "base_uri": "https://localhost:8080/"
        },
        "id": "lomZw9p58BUS",
        "outputId": "6867451b-1816-4584-a4f6-90d582aec765"
      },
      "execution_count": null,
      "outputs": [
        {
          "output_type": "stream",
          "name": "stdout",
          "text": [
            "      CUSTOMERID  COUNT        COUNTRY       STATE          CITY  ZIP_CODE  \\\n",
            "0     3668-QPYBK      1  United States  California   Los Angeles     90003   \n",
            "1     9237-HQITU      1  United States  California   Los Angeles     90005   \n",
            "2     9305-CDSKC      1  United States  California   Los Angeles     90006   \n",
            "3     7892-POOKP      1  United States  California   Los Angeles     90010   \n",
            "4     0280-XJGEX      1  United States  California   Los Angeles     90015   \n",
            "...          ...    ...            ...         ...           ...       ...   \n",
            "7038  2569-WGERO      1  United States  California       Landers     92285   \n",
            "7039  6840-RESVB      1  United States  California      Adelanto     92301   \n",
            "7040  2234-XADUH      1  United States  California         Amboy     92304   \n",
            "7041  4801-JZAZL      1  United States  California  Angelus Oaks     92305   \n",
            "7042  3186-AJIEK      1  United States  California  Apple Valley     92308   \n",
            "\n",
            "                    LAT_LONG  LATITUDE  LONGITUDE  GENDER  ...  \\\n",
            "0     33.964131, -118.272783     33.96    -118.27    male  ...   \n",
            "1      34.059281, -118.30742     34.06    -118.31  female  ...   \n",
            "2     34.048013, -118.293953     34.05    -118.29  female  ...   \n",
            "3     34.062125, -118.315709     34.06    -118.32  female  ...   \n",
            "4     34.039224, -118.266293     34.04    -118.27    male  ...   \n",
            "...                      ...       ...        ...     ...  ...   \n",
            "7038  34.341737, -116.539416     34.34    -116.54  female  ...   \n",
            "7039  34.667815, -117.536183     34.67    -117.54    male  ...   \n",
            "7040  34.559882, -115.637164     34.56    -115.64  female  ...   \n",
            "7041     34.1678, -116.86433     34.17    -116.86  female  ...   \n",
            "7042  34.424926, -117.184503     34.42    -117.18    male  ...   \n",
            "\n",
            "            CONTRACT PAPERLESS_BILLING             PAYMENT_METHOD  \\\n",
            "0     Month-to-month               Yes               Mailed check   \n",
            "1     Month-to-month               Yes           Electronic check   \n",
            "2     Month-to-month               Yes           Electronic check   \n",
            "3     Month-to-month               Yes           Electronic check   \n",
            "4     Month-to-month               Yes  Bank transfer (automatic)   \n",
            "...              ...               ...                        ...   \n",
            "7038        Two year               Yes  Bank transfer (automatic)   \n",
            "7039        One year               Yes               Mailed check   \n",
            "7040        One year               Yes    Credit card (automatic)   \n",
            "7041  Month-to-month               Yes           Electronic check   \n",
            "7042        Two year               Yes  Bank transfer (automatic)   \n",
            "\n",
            "      MONTHLY_CHARGES TOTAL_CHARGES CHURN_LABEL CHURN_VALUE CHURN_SCORE  CLTV  \\\n",
            "0               53.85           108         Yes           1          86  3239   \n",
            "1               70.70           152         Yes           1          67  2701   \n",
            "2               99.65           821         Yes           1          86  5372   \n",
            "3              104.80          3046         Yes           1          84  5003   \n",
            "4              103.70          5036         Yes           1          89  5340   \n",
            "...               ...           ...         ...         ...         ...   ...   \n",
            "7038            21.15          1419          No           0          45  5306   \n",
            "7039            84.80          1991          No           0          59  2140   \n",
            "7040           103.20          7363          No           0          71  5560   \n",
            "7041            29.60           346          No           0          59  2793   \n",
            "7042           105.65          6845          No           0          38  5097   \n",
            "\n",
            "                       CHURN_REASON  \n",
            "0      Competitor made better offer  \n",
            "1                             Moved  \n",
            "2                             Moved  \n",
            "3                             Moved  \n",
            "4     Competitor had better devices  \n",
            "...                             ...  \n",
            "7038                No Active Churn  \n",
            "7039                No Active Churn  \n",
            "7040                No Active Churn  \n",
            "7041                No Active Churn  \n",
            "7042                No Active Churn  \n",
            "\n",
            "[7043 rows x 33 columns]\n"
          ]
        }
      ]
    },
    {
      "cell_type": "markdown",
      "source": [
        "**5. Rename columns**"
      ],
      "metadata": {
        "id": "0keAmGWO72dp"
      }
    },
    {
      "cell_type": "code",
      "source": [
        "df.columns = df.columns.str.strip().str.upper().str.replace(\" \", \"_\")"
      ],
      "metadata": {
        "id": "6kGyhjom787t"
      },
      "execution_count": null,
      "outputs": []
    },
    {
      "cell_type": "code",
      "source": [
        "print(df)"
      ],
      "metadata": {
        "colab": {
          "base_uri": "https://localhost:8080/"
        },
        "id": "N8fWD9w98JL_",
        "outputId": "4542ace9-c8b1-492b-9cc2-1f15fdbb20c9"
      },
      "execution_count": null,
      "outputs": [
        {
          "output_type": "stream",
          "name": "stdout",
          "text": [
            "      CUSTOMERID  COUNT        COUNTRY       STATE          CITY  ZIP_CODE  \\\n",
            "0     3668-QPYBK      1  United States  California   Los Angeles     90003   \n",
            "1     9237-HQITU      1  United States  California   Los Angeles     90005   \n",
            "2     9305-CDSKC      1  United States  California   Los Angeles     90006   \n",
            "3     7892-POOKP      1  United States  California   Los Angeles     90010   \n",
            "4     0280-XJGEX      1  United States  California   Los Angeles     90015   \n",
            "...          ...    ...            ...         ...           ...       ...   \n",
            "7038  2569-WGERO      1  United States  California       Landers     92285   \n",
            "7039  6840-RESVB      1  United States  California      Adelanto     92301   \n",
            "7040  2234-XADUH      1  United States  California         Amboy     92304   \n",
            "7041  4801-JZAZL      1  United States  California  Angelus Oaks     92305   \n",
            "7042  3186-AJIEK      1  United States  California  Apple Valley     92308   \n",
            "\n",
            "                    LAT_LONG  LATITUDE  LONGITUDE  GENDER  ...  \\\n",
            "0     33.964131, -118.272783     33.96    -118.27    male  ...   \n",
            "1      34.059281, -118.30742     34.06    -118.31  female  ...   \n",
            "2     34.048013, -118.293953     34.05    -118.29  female  ...   \n",
            "3     34.062125, -118.315709     34.06    -118.32  female  ...   \n",
            "4     34.039224, -118.266293     34.04    -118.27    male  ...   \n",
            "...                      ...       ...        ...     ...  ...   \n",
            "7038  34.341737, -116.539416     34.34    -116.54  female  ...   \n",
            "7039  34.667815, -117.536183     34.67    -117.54    male  ...   \n",
            "7040  34.559882, -115.637164     34.56    -115.64  female  ...   \n",
            "7041     34.1678, -116.86433     34.17    -116.86  female  ...   \n",
            "7042  34.424926, -117.184503     34.42    -117.18    male  ...   \n",
            "\n",
            "            CONTRACT PAPERLESS_BILLING             PAYMENT_METHOD  \\\n",
            "0     Month-to-month               Yes               Mailed check   \n",
            "1     Month-to-month               Yes           Electronic check   \n",
            "2     Month-to-month               Yes           Electronic check   \n",
            "3     Month-to-month               Yes           Electronic check   \n",
            "4     Month-to-month               Yes  Bank transfer (automatic)   \n",
            "...              ...               ...                        ...   \n",
            "7038        Two year               Yes  Bank transfer (automatic)   \n",
            "7039        One year               Yes               Mailed check   \n",
            "7040        One year               Yes    Credit card (automatic)   \n",
            "7041  Month-to-month               Yes           Electronic check   \n",
            "7042        Two year               Yes  Bank transfer (automatic)   \n",
            "\n",
            "      MONTHLY_CHARGES TOTAL_CHARGES CHURN_LABEL CHURN_VALUE CHURN_SCORE  CLTV  \\\n",
            "0               53.85           108         Yes           1          86  3239   \n",
            "1               70.70           152         Yes           1          67  2701   \n",
            "2               99.65           821         Yes           1          86  5372   \n",
            "3              104.80          3046         Yes           1          84  5003   \n",
            "4              103.70          5036         Yes           1          89  5340   \n",
            "...               ...           ...         ...         ...         ...   ...   \n",
            "7038            21.15          1419          No           0          45  5306   \n",
            "7039            84.80          1991          No           0          59  2140   \n",
            "7040           103.20          7363          No           0          71  5560   \n",
            "7041            29.60           346          No           0          59  2793   \n",
            "7042           105.65          6845          No           0          38  5097   \n",
            "\n",
            "                       CHURN_REASON  \n",
            "0      Competitor made better offer  \n",
            "1                             Moved  \n",
            "2                             Moved  \n",
            "3                             Moved  \n",
            "4     Competitor had better devices  \n",
            "...                             ...  \n",
            "7038                No Active Churn  \n",
            "7039                No Active Churn  \n",
            "7040                No Active Churn  \n",
            "7041                No Active Churn  \n",
            "7042                No Active Churn  \n",
            "\n",
            "[7043 rows x 33 columns]\n"
          ]
        }
      ]
    },
    {
      "cell_type": "markdown",
      "source": [
        "# DATA PREPROCESSING\n"
      ],
      "metadata": {
        "id": "LuKklx1uEOT5"
      }
    },
    {
      "cell_type": "code",
      "source": [
        "import pandas as pd\n",
        "import numpy as np\n",
        "from sklearn.preprocessing import LabelEncoder, StandardScaler\n",
        "\n",
        "#1. Encode Categorical Variables\n",
        "binary_cols = ['PARTNER','DEPENDENTS','PHONE_SERVICE','PAPERLESS_BILLING','CHURN_LABEL']\n",
        "for col in binary_cols:\n",
        "    df[col] = df[col].map({'Yes':1,'No':0})\n",
        "\n",
        "# Encode gender\n",
        "df['GENDER'] = df['GENDER'].map({'Male':1,'Female':0})\n",
        "\n",
        "\n"
      ],
      "metadata": {
        "id": "Hi1UCHSMGvFR"
      },
      "execution_count": 28,
      "outputs": []
    },
    {
      "cell_type": "markdown",
      "source": [
        "**2. Feature Engineering**"
      ],
      "metadata": {
        "id": "mLh0HxmlImL8"
      }
    },
    {
      "cell_type": "code",
      "source": [
        "df['TENURE_YEARS'] = (df['TENURE_MONTHS'] / 12).round(1)"
      ],
      "metadata": {
        "id": "3QbDj8fQIZik"
      },
      "execution_count": 30,
      "outputs": []
    },
    {
      "cell_type": "code",
      "source": [
        "df['LONG_TERM_CONTRACT'] = df['CONTRACT_Two year'] if 'CONTRACT_Two year' in df.columns else 0"
      ],
      "metadata": {
        "id": "EaDDHZ_4IbGO"
      },
      "execution_count": 31,
      "outputs": []
    },
    {
      "cell_type": "code",
      "source": [
        "df['TOTAL_REVENUE'] = df['MONTHLY_CHARGES'] * df['TENURE_MONTHS']\n"
      ],
      "metadata": {
        "id": "ntx3jrghIhcY"
      },
      "execution_count": 32,
      "outputs": []
    },
    {
      "cell_type": "markdown",
      "source": [
        "**3.Scale Numerical Features**"
      ],
      "metadata": {
        "id": "-WEu6OSfI2Q1"
      }
    },
    {
      "cell_type": "code",
      "source": [
        "for col in ['MONTHLY_CHARGES','TOTAL_CHARGES','CLTV','TENURE_MONTHS','TENURE_YEARS','TOTAL_REVENUE']:\n",
        "    print(col, df[col].dtype, df[col].unique()[:10])  # show first 10 unique values\n"
      ],
      "metadata": {
        "colab": {
          "base_uri": "https://localhost:8080/"
        },
        "id": "DeIxcNCyJik9",
        "outputId": "1c55f2c3-cb53-475b-c3ff-96af9c9a36d9"
      },
      "execution_count": 34,
      "outputs": [
        {
          "output_type": "stream",
          "name": "stdout",
          "text": [
            "MONTHLY_CHARGES float64 [ 53.85  70.7   99.65 104.8  103.7   55.2   39.65  20.15  99.35  30.2 ]\n",
            "TOTAL_CHARGES object ['108' '152' '821' '3046' '5036' '528' '40' '20' '4749' '30']\n",
            "CLTV int64 [3239 2701 5372 5003 5340 5925 5433 4832 5789 2915]\n",
            "TENURE_MONTHS int64 [ 2  8 28 49 10  1 47 17  5 34]\n",
            "TENURE_YEARS float64 [0.2 0.7 2.3 4.1 0.8 0.1 3.9 1.4 0.4 2.8]\n",
            "TOTAL_REVENUE float64 [ 107.7   141.4   797.2  2934.4  5081.3   552.     39.65   20.15 4669.45\n",
            "   30.2 ]\n"
          ]
        }
      ]
    },
    {
      "cell_type": "code",
      "source": [
        "for col in ['MONTHLY_CHARGES','TOTAL_CHARGES','CLTV','TENURE_MONTHS','TENURE_YEARS','TOTAL_REVENUE']:\n",
        "    df[col] = pd.to_numeric(df[col], errors='coerce')\n"
      ],
      "metadata": {
        "id": "wtaCSnjbJlSD"
      },
      "execution_count": 35,
      "outputs": []
    },
    {
      "cell_type": "code",
      "source": [
        "df[num_cols] = df[num_cols].fillna(df[num_cols].median())\n"
      ],
      "metadata": {
        "id": "0XQZwx3cJpQW"
      },
      "execution_count": 36,
      "outputs": []
    },
    {
      "cell_type": "code",
      "source": [
        "from sklearn.preprocessing import StandardScaler\n",
        "\n",
        "scaler = StandardScaler()\n",
        "df[num_cols] = scaler.fit_transform(df[num_cols])\n"
      ],
      "metadata": {
        "id": "mGMpFMA5JtTk"
      },
      "execution_count": 37,
      "outputs": []
    },
    {
      "cell_type": "markdown",
      "source": [
        "**4. Prepare Target Variable**"
      ],
      "metadata": {
        "id": "3KXJmmtNJ55R"
      }
    },
    {
      "cell_type": "code",
      "source": [
        "df['CHURN'] = df['CHURN_VALUE'].astype(int)"
      ],
      "metadata": {
        "id": "ONFmY5osJzOm"
      },
      "execution_count": 38,
      "outputs": []
    },
    {
      "cell_type": "markdown",
      "source": [
        "**5.Drop redundant churn columns**"
      ],
      "metadata": {
        "id": "nzXQRoSCKCaX"
      }
    },
    {
      "cell_type": "code",
      "source": [
        "df = df.drop(columns=['CHURN_LABEL','CHURN_VALUE','CHURN_SCORE'])"
      ],
      "metadata": {
        "id": "-bezYxbkKT_U"
      },
      "execution_count": 40,
      "outputs": []
    },
    {
      "cell_type": "code",
      "source": [
        "print(df.head())\n"
      ],
      "metadata": {
        "colab": {
          "base_uri": "https://localhost:8080/"
        },
        "id": "2MXbhMOIKIlZ",
        "outputId": "e30b7826-5cd4-4a4c-8382-658e1a17d50d"
      },
      "execution_count": 41,
      "outputs": [
        {
          "output_type": "stream",
          "name": "stdout",
          "text": [
            "   CUSTOMERID  COUNT        COUNTRY       STATE         CITY  ZIP_CODE  \\\n",
            "0  3668-QPYBK      1  United States  California  Los Angeles     90003   \n",
            "1  9237-HQITU      1  United States  California  Los Angeles     90005   \n",
            "2  9305-CDSKC      1  United States  California  Los Angeles     90006   \n",
            "3  7892-POOKP      1  United States  California  Los Angeles     90010   \n",
            "4  0280-XJGEX      1  United States  California  Los Angeles     90015   \n",
            "\n",
            "                 LAT_LONG  LATITUDE  LONGITUDE  GENDER  ...  \\\n",
            "0  33.964131, -118.272783     33.96    -118.27     NaN  ...   \n",
            "1   34.059281, -118.30742     34.06    -118.31     NaN  ...   \n",
            "2  34.048013, -118.293953     34.05    -118.29     NaN  ...   \n",
            "3  34.062125, -118.315709     34.06    -118.32     NaN  ...   \n",
            "4  34.039224, -118.266293     34.04    -118.27     NaN  ...   \n",
            "\n",
            "  CHURN_REASON_No Active Churn  CHURN_REASON_Poor expertise of online support  \\\n",
            "0                        False                                          False   \n",
            "1                        False                                          False   \n",
            "2                        False                                          False   \n",
            "3                        False                                          False   \n",
            "4                        False                                          False   \n",
            "\n",
            "   CHURN_REASON_Poor expertise of phone support  CHURN_REASON_Price too high  \\\n",
            "0                                         False                        False   \n",
            "1                                         False                        False   \n",
            "2                                         False                        False   \n",
            "3                                         False                        False   \n",
            "4                                         False                        False   \n",
            "\n",
            "   CHURN_REASON_Product dissatisfaction  CHURN_REASON_Service dissatisfaction  \\\n",
            "0                                 False                                 False   \n",
            "1                                 False                                 False   \n",
            "2                                 False                                 False   \n",
            "3                                 False                                 False   \n",
            "4                                 False                                 False   \n",
            "\n",
            "   TENURE_YEARS  LONG_TERM_CONTRACT  TOTAL_REVENUE  CHURN  \n",
            "0     -1.221294               False      -0.959071      1  \n",
            "1     -1.221294               False      -0.944189      1  \n",
            "2     -0.976837               False      -0.654598      1  \n",
            "3     -0.194573               False       0.289158      1  \n",
            "4      0.685473               False       1.237197      1  \n",
            "\n",
            "[5 rows x 64 columns]\n"
          ]
        }
      ]
    },
    {
      "cell_type": "code",
      "source": [
        "print(df.info())"
      ],
      "metadata": {
        "colab": {
          "base_uri": "https://localhost:8080/"
        },
        "id": "TFWsITNhKXrf",
        "outputId": "1fc57230-5e8f-475b-ea07-17f0ebacfd53"
      },
      "execution_count": 42,
      "outputs": [
        {
          "output_type": "stream",
          "name": "stdout",
          "text": [
            "<class 'pandas.core.frame.DataFrame'>\n",
            "RangeIndex: 7043 entries, 0 to 7042\n",
            "Data columns (total 64 columns):\n",
            " #   Column                                                  Non-Null Count  Dtype  \n",
            "---  ------                                                  --------------  -----  \n",
            " 0   CUSTOMERID                                              7043 non-null   object \n",
            " 1   COUNT                                                   7043 non-null   int64  \n",
            " 2   COUNTRY                                                 7043 non-null   object \n",
            " 3   STATE                                                   7043 non-null   object \n",
            " 4   CITY                                                    7043 non-null   object \n",
            " 5   ZIP_CODE                                                7043 non-null   int64  \n",
            " 6   LAT_LONG                                                7043 non-null   object \n",
            " 7   LATITUDE                                                7043 non-null   float64\n",
            " 8   LONGITUDE                                               7043 non-null   float64\n",
            " 9   GENDER                                                  0 non-null      float64\n",
            " 10  SENIOR_CITIZEN                                          7043 non-null   object \n",
            " 11  PARTNER                                                 0 non-null      float64\n",
            " 12  DEPENDENTS                                              0 non-null      float64\n",
            " 13  TENURE_MONTHS                                           7043 non-null   float64\n",
            " 14  PHONE_SERVICE                                           0 non-null      float64\n",
            " 15  PAPERLESS_BILLING                                       0 non-null      float64\n",
            " 16  MONTHLY_CHARGES                                         7043 non-null   float64\n",
            " 17  TOTAL_CHARGES                                           7043 non-null   float64\n",
            " 18  CLTV                                                    7043 non-null   float64\n",
            " 19  MULTIPLE_LINES_No phone service                         7043 non-null   bool   \n",
            " 20  MULTIPLE_LINES_Yes                                      7043 non-null   bool   \n",
            " 21  INTERNET_SERVICE_Fiber optic                            7043 non-null   bool   \n",
            " 22  INTERNET_SERVICE_No                                     7043 non-null   bool   \n",
            " 23  ONLINE_SECURITY_No internet service                     7043 non-null   bool   \n",
            " 24  ONLINE_SECURITY_Yes                                     7043 non-null   bool   \n",
            " 25  ONLINE_BACKUP_No internet service                       7043 non-null   bool   \n",
            " 26  ONLINE_BACKUP_Yes                                       7043 non-null   bool   \n",
            " 27  DEVICE_PROTECTION_No internet service                   7043 non-null   bool   \n",
            " 28  DEVICE_PROTECTION_Yes                                   7043 non-null   bool   \n",
            " 29  TECH_SUPPORT_No internet service                        7043 non-null   bool   \n",
            " 30  TECH_SUPPORT_Yes                                        7043 non-null   bool   \n",
            " 31  STREAMING_TV_No internet service                        7043 non-null   bool   \n",
            " 32  STREAMING_TV_Yes                                        7043 non-null   bool   \n",
            " 33  STREAMING_MOVIES_No internet service                    7043 non-null   bool   \n",
            " 34  STREAMING_MOVIES_Yes                                    7043 non-null   bool   \n",
            " 35  CONTRACT_One year                                       7043 non-null   bool   \n",
            " 36  CONTRACT_Two year                                       7043 non-null   bool   \n",
            " 37  PAYMENT_METHOD_Credit card (automatic)                  7043 non-null   bool   \n",
            " 38  PAYMENT_METHOD_Electronic check                         7043 non-null   bool   \n",
            " 39  PAYMENT_METHOD_Mailed check                             7043 non-null   bool   \n",
            " 40  CHURN_REASON_Attitude of support person                 7043 non-null   boolean\n",
            " 41  CHURN_REASON_Competitor had better devices              7043 non-null   boolean\n",
            " 42  CHURN_REASON_Competitor made better offer               7043 non-null   boolean\n",
            " 43  CHURN_REASON_Competitor offered higher download speeds  7043 non-null   boolean\n",
            " 44  CHURN_REASON_Competitor offered more data               7043 non-null   boolean\n",
            " 45  CHURN_REASON_Deceased                                   7043 non-null   boolean\n",
            " 46  CHURN_REASON_Don't know                                 7043 non-null   boolean\n",
            " 47  CHURN_REASON_Extra data charges                         7043 non-null   boolean\n",
            " 48  CHURN_REASON_Lack of affordable download/upload speed   7043 non-null   boolean\n",
            " 49  CHURN_REASON_Lack of self-service on Website            7043 non-null   boolean\n",
            " 50  CHURN_REASON_Limited range of services                  7043 non-null   boolean\n",
            " 51  CHURN_REASON_Long distance charges                      7043 non-null   boolean\n",
            " 52  CHURN_REASON_Moved                                      7043 non-null   boolean\n",
            " 53  CHURN_REASON_Network reliability                        7043 non-null   boolean\n",
            " 54  CHURN_REASON_No Active Churn                            7043 non-null   boolean\n",
            " 55  CHURN_REASON_Poor expertise of online support           7043 non-null   boolean\n",
            " 56  CHURN_REASON_Poor expertise of phone support            7043 non-null   boolean\n",
            " 57  CHURN_REASON_Price too high                             7043 non-null   boolean\n",
            " 58  CHURN_REASON_Product dissatisfaction                    7043 non-null   boolean\n",
            " 59  CHURN_REASON_Service dissatisfaction                    7043 non-null   boolean\n",
            " 60  TENURE_YEARS                                            7043 non-null   float64\n",
            " 61  LONG_TERM_CONTRACT                                      7043 non-null   bool   \n",
            " 62  TOTAL_REVENUE                                           7043 non-null   float64\n",
            " 63  CHURN                                                   7043 non-null   int64  \n",
            "dtypes: bool(22), boolean(20), float64(13), int64(3), object(6)\n",
            "memory usage: 1.6+ MB\n",
            "None\n"
          ]
        }
      ]
    }
  ]
}